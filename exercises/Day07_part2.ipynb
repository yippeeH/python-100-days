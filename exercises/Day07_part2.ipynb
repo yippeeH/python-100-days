{
 "cells": [
  {
   "cell_type": "code",
   "execution_count": 1,
   "metadata": {},
   "outputs": [
    {
     "name": "stdout",
     "output_type": "stream",
     "text": [
      "               北京欢迎你,为你开天辟地\n",
      "              北京欢迎你,为你开天辟地 \n",
      "             北京欢迎你,为你开天辟地  \n",
      "            北京欢迎你,为你开天辟地   \n",
      "           北京欢迎你,为你开天辟地    \n",
      "          北京欢迎你,为你开天辟地     \n",
      "         北京欢迎你,为你开天辟地      \n",
      "        北京欢迎你,为你开天辟地       \n",
      "       北京欢迎你,为你开天辟地        \n",
      "      北京欢迎你,为你开天辟地         \n",
      "     北京欢迎你,为你开天辟地          \n",
      "    北京欢迎你,为你开天辟地           \n",
      "   北京欢迎你,为你开天辟地            \n",
      "  北京欢迎你,为你开天辟地             \n",
      " 北京欢迎你,为你开天辟地              \n",
      "北京欢迎你,为你开天辟地               \n",
      "京欢迎你,为你开天辟地               北\n",
      "欢迎你,为你开天辟地               北京\n",
      "迎你,为你开天辟地               北京欢\n",
      "你,为你开天辟地               北京欢迎\n",
      ",为你开天辟地               北京欢迎你\n",
      "为你开天辟地               北京欢迎你,\n",
      "你开天辟地               北京欢迎你,为\n",
      "开天辟地               北京欢迎你,为你\n",
      "天辟地               北京欢迎你,为你开\n",
      "辟地               北京欢迎你,为你开天\n",
      "地               北京欢迎你,为你开天辟\n",
      "               北京欢迎你,为你开天辟地\n",
      "              北京欢迎你,为你开天辟地 \n",
      "             北京欢迎你,为你开天辟地  \n",
      "            北京欢迎你,为你开天辟地   \n",
      "           北京欢迎你,为你开天辟地    \n",
      "          北京欢迎你,为你开天辟地     \n",
      "         北京欢迎你,为你开天辟地      \n",
      "        北京欢迎你,为你开天辟地       \n",
      "       北京欢迎你,为你开天辟地        \n",
      "      北京欢迎你,为你开天辟地         \n",
      "     北京欢迎你,为你开天辟地          \n",
      "    北京欢迎你,为你开天辟地           \n",
      "   北京欢迎你,为你开天辟地            \n",
      "  北京欢迎你,为你开天辟地             \n",
      " 北京欢迎你,为你开天辟地              \n"
     ]
    }
   ],
   "source": [
    "\"\"\"\n",
    "练习1：在屏幕上显示跑马灯文字\n",
    "\"\"\"\n",
    "import time\n",
    "\n",
    "def runningTitle(text, len_display, speed_in_sec):\n",
    "    itr = len_display * 2 + len(text)\n",
    "    text = \" \" * len_display + text\n",
    "    while itr > 0:\n",
    "        print(text)\n",
    "        time.sleep(speed_in_sec)\n",
    "        text = text[1:] + text[0]\n",
    "        itr -= 1\n",
    "\n",
    "if __name__ == '__main__':\n",
    "    runningTitle(\"北京欢迎你,为你开天辟地\", 15, 0.1)"
   ]
  },
  {
   "cell_type": "code",
   "execution_count": 2,
   "metadata": {},
   "outputs": [
    {
     "name": "stdout",
     "output_type": "stream",
     "text": [
      "OJCVRKhjo46Wsd75\n"
     ]
    }
   ],
   "source": [
    "\"\"\"\n",
    "练习2：设计一个函数产生指定长度的验证码，验证码由大小写字母和数字构成。\n",
    "\"\"\"\n",
    "import random\n",
    "import string\n",
    "\n",
    "def code_gen(length):\n",
    "    x = ''\n",
    "    for _ in range(length):\n",
    "        x = ''.join([x, random.choice(string.ascii_uppercase + string.ascii_lowercase + string.digits)])\n",
    "#     x = ''.join(random.choice(string.ascii_uppercase + string.ascii_lowercase + string.digits) for _ in range(length))\n",
    "    return x\n",
    "\n",
    "if __name__ == '__main__':\n",
    "    print(code_gen(16))\n",
    "    "
   ]
  },
  {
   "cell_type": "code",
   "execution_count": 3,
   "metadata": {},
   "outputs": [
    {
     "name": "stdout",
     "output_type": "stream",
     "text": [
      "absas\n"
     ]
    }
   ],
   "source": [
    "\"\"\"\n",
    "练习3：设计一个函数返回给定文件名的后缀名。\n",
    "\"\"\"\n",
    "\n",
    "def get_suffix(file_name):\n",
    "    split_names = file_name.split('.')\n",
    "    if len(split_names) == 1: \n",
    "        return ''\n",
    "    return split_names[-1]\n",
    "\n",
    "if __name__ == '__main__':\n",
    "    print(get_suffix('sef.absas'))"
   ]
  },
  {
   "cell_type": "code",
   "execution_count": 4,
   "metadata": {},
   "outputs": [
    {
     "name": "stdout",
     "output_type": "stream",
     "text": [
      "[16, 96]\n"
     ]
    }
   ],
   "source": [
    "\"\"\"\n",
    "练习4：设计一个函数返回传入的列表中最大和第二大的元素的值。\n",
    "\"\"\"\n",
    "\n",
    "def top_n(numbers, n):\n",
    "    return sorted(numbers)[-n:]\n",
    "\n",
    "if __name__ == '__main__':\n",
    "    print(top_n([1,5,96,5,16], 2))\n"
   ]
  },
  {
   "cell_type": "code",
   "execution_count": 5,
   "metadata": {},
   "outputs": [
    {
     "name": "stdout",
     "output_type": "stream",
     "text": [
      "249\n"
     ]
    }
   ],
   "source": [
    "\"\"\"\n",
    "练习5：计算指定的年月日是这一年的第几天\n",
    "\"\"\"\n",
    "\n",
    "import datetime\n",
    "\n",
    "def nth_day_of_year(date):\n",
    "    return date.timetuple().tm_yday\n",
    "    \n",
    "if __name__ == '__main__':\n",
    "    print(nth_day_of_year(datetime.date.today()))"
   ]
  },
  {
   "cell_type": "code",
   "execution_count": null,
   "metadata": {},
   "outputs": [],
   "source": []
  }
 ],
 "metadata": {
  "kernelspec": {
   "display_name": "Python 3",
   "language": "python",
   "name": "python3"
  },
  "language_info": {
   "codemirror_mode": {
    "name": "ipython",
    "version": 3
   },
   "file_extension": ".py",
   "mimetype": "text/x-python",
   "name": "python",
   "nbconvert_exporter": "python",
   "pygments_lexer": "ipython3",
   "version": "3.7.0"
  }
 },
 "nbformat": 4,
 "nbformat_minor": 2
}
