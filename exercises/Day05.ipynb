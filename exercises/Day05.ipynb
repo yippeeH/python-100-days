{
 "cells": [
  {
   "cell_type": "code",
   "execution_count": 3,
   "metadata": {},
   "outputs": [
    {
     "name": "stdout",
     "output_type": "stream",
     "text": [
      "153\n",
      "370\n",
      "371\n",
      "407\n"
     ]
    }
   ],
   "source": [
    "\"\"\"\n",
    "Find Narcissistic Number\n",
    "\"\"\"\n",
    "\n",
    "for i in range(100, 1000):\n",
    "    h = i // 100\n",
    "    m = i // 10 % 10\n",
    "    l = i % 10\n",
    "    if h ** 3 + m ** 3 + l ** 3 == i:\n",
    "        print(i)"
   ]
  },
  {
   "cell_type": "code",
   "execution_count": 5,
   "metadata": {},
   "outputs": [
    {
     "name": "stdout",
     "output_type": "stream",
     "text": [
      "6: 0.000135s.\n",
      "28: 0.000646s.\n",
      "496: 0.016977s.\n",
      "8128: 3.562416s.\n"
     ]
    }
   ],
   "source": [
    "\"\"\"\n",
    "Find Perfect Number\n",
    "\"\"\"\n",
    "import datetime\n",
    "\n",
    "start_time = datetime.datetime.now()\n",
    "for num in range(1,10000):\n",
    "    s = 0\n",
    "    for factor in range(1, num):\n",
    "        if num % factor == 0:\n",
    "            s += factor\n",
    "            if s > num:\n",
    "                break\n",
    "    if s == num:\n",
    "        print(str(num) + ': ' + str((datetime.datetime.now() - start_time).total_seconds()) + 's.')"
   ]
  },
  {
   "cell_type": "code",
   "execution_count": 9,
   "metadata": {},
   "outputs": [
    {
     "name": "stdout",
     "output_type": "stream",
     "text": [
      "12, 4, 84\n",
      "8, 11, 81\n",
      "4, 18, 78\n",
      "0, 25, 75\n"
     ]
    }
   ],
   "source": [
    "\"\"\"\n",
    "100 bucks 100 chicken\n",
    "\"\"\"\n",
    "\n",
    "b = 100\n",
    "m, f, c = 0, 0, 0\n",
    "for m in range(100 // 5, -1, -1):\n",
    "    b = 100 - m * 5\n",
    "    for f in range(b // 3, -1, -1):\n",
    "        c = 100 - m - f\n",
    "        if b == f * 3 + c / 3:\n",
    "                print('%d, %d, %d' % (m, f, c))"
   ]
  },
  {
   "cell_type": "code",
   "execution_count": 14,
   "metadata": {},
   "outputs": [
    {
     "name": "stdout",
     "output_type": "stream",
     "text": [
      "1 1 2 3 5 8 13 21 34 55 89 144 233 377 610 987 1597 2584 4181 6765 10946 17711 28657 46368 75025 121393 196418 317811 514229 832040 1346269 2178309 3524578 5702887 9227465 14930352 24157817 39088169 63245986 102334155 165580141 267914296 433494437 701408733 1134903170 1836311903 2971215073 4807526976 7778742049 12586269025 20365011074 32951280099 53316291173 86267571272 139583862445 225851433717 365435296162 591286729879 956722026041 1548008755920 2504730781961 4052739537881 6557470319842 10610209857723 17167680177565 27777890035288 44945570212853 72723460248141 117669030460994 190392490709135 308061521170129 498454011879264 806515533049393 1304969544928657 2111485077978050 3416454622906707 5527939700884757 8944394323791464 14472334024676221 23416728348467685 37889062373143906 61305790721611591 99194853094755497 160500643816367088 259695496911122585 420196140727489673 679891637638612258 1100087778366101931 1779979416004714189 2880067194370816120 4660046610375530309 7540113804746346429 12200160415121876738 19740274219868223167 31940434634990099905 51680708854858323072 83621143489848422977 135301852344706746049 218922995834555169026 354224848179261915075 "
     ]
    }
   ],
   "source": [
    "\"\"\"\n",
    "Fibonacci\n",
    "\"\"\"\n",
    "a = 0\n",
    "b = 1\n",
    "for _ in range(100):\n",
    "    print('%d' % b, end=' ')\n",
    "    b, a = a + b, b\n"
   ]
  },
  {
   "cell_type": "code",
   "execution_count": 45,
   "metadata": {},
   "outputs": [
    {
     "name": "stdout",
     "output_type": "stream",
     "text": [
      "7 + 2 = 9\n",
      "1 + 3 = 4\n",
      "6 + 1 = 7\n",
      "player wins!\n",
      "4 + 7 = 11\n"
     ]
    }
   ],
   "source": [
    "\"\"\"\n",
    "Craps赌博游戏\n",
    "玩家摇两颗色子 如果第一次摇出7点或11点 玩家胜\n",
    "如果摇出2点 3点 12点 庄家胜 其他情况游戏继续\n",
    "玩家再次要色子 如果摇出7点 庄家胜\n",
    "如果摇出第一次摇的点数 玩家胜\n",
    "否则游戏继续 玩家继续摇色子\n",
    "玩家进入游戏时有1000元的赌注 全部输光游戏结束\n",
    "\"\"\"\n",
    "from random import randint\n",
    "\n",
    "is_done = False\n",
    "is_first = True\n",
    "p = 0\n",
    "m = 1000\n",
    "while not(is_done):\n",
    "    a = randint(1, 7)\n",
    "    b = randint(1, 7)\n",
    "    s = a + b\n",
    "    if is_first and (p == 7 or s == 11):\n",
    "        print('player wins!')\n",
    "        is_done = True\n",
    "    elif is_first and (s == 2 or s == 3 or s == 12):\n",
    "        print('dealer wins!')\n",
    "        is_done = True\n",
    "    elif not(is_first) and s == 7:\n",
    "        print('dealer wins!')\n",
    "        is_done = True\n",
    "    elif not(is_first) and s == p:\n",
    "        print('player wins!')\n",
    "        is_done = True\n",
    "    p = s\n",
    "    m -= 20\n",
    "    print('%d + %d = %d' % (a, b, s))\n",
    "if not(is_done):\n",
    "    print('Lost all money.')"
   ]
  }
 ],
 "metadata": {
  "kernelspec": {
   "display_name": "Python 3",
   "language": "python",
   "name": "python3"
  },
  "language_info": {
   "codemirror_mode": {
    "name": "ipython",
    "version": 3
   },
   "file_extension": ".py",
   "mimetype": "text/x-python",
   "name": "python",
   "nbconvert_exporter": "python",
   "pygments_lexer": "ipython3",
   "version": "3.6.1"
  }
 },
 "nbformat": 4,
 "nbformat_minor": 2
}
