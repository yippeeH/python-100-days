{
 "cells": [
  {
   "cell_type": "code",
   "execution_count": 3,
   "metadata": {},
   "outputs": [
    {
     "name": "stdout",
     "output_type": "stream",
     "text": [
      "5050\n"
     ]
    }
   ],
   "source": [
    "\"\"\"\n",
    "用for循环实现1~100求和\n",
    "\n",
    "\"\"\"\n",
    "sum = 0\n",
    "for i in range(1, 101):\n",
    "    sum += i\n",
    "print(sum)"
   ]
  },
  {
   "cell_type": "code",
   "execution_count": 6,
   "metadata": {},
   "outputs": [
    {
     "name": "stdout",
     "output_type": "stream",
     "text": [
      "2550\n"
     ]
    }
   ],
   "source": [
    "\"\"\"\n",
    "用for循环实现1~100之间的偶数求和\n",
    "\n",
    "\"\"\"\n",
    "sum = 0\n",
    "for i in range(2, 101, 2):\n",
    "    sum += i\n",
    "print(sum)"
   ]
  },
  {
   "cell_type": "code",
   "execution_count": 7,
   "metadata": {},
   "outputs": [
    {
     "name": "stdout",
     "output_type": "stream",
     "text": [
      "my guess = 3\n",
      "go bigger\n",
      "my guess = 50\n",
      "go bigger\n",
      "my guess = 75\n",
      "go bigger\n",
      "my guess = 87\n",
      "go smaller\n",
      "my guess = 81\n",
      "go smaller\n",
      "my guess = 78\n",
      "go bigger\n",
      "my guess = 79\n",
      "you got it!\n"
     ]
    }
   ],
   "source": [
    "\"\"\"\n",
    "猜数字游戏\n",
    "计算机出一个1~100之间的随机数由人来猜\n",
    "计算机根据人猜的数字分别给出提示大一点/小一点/猜对了\n",
    "\n",
    "\"\"\"\n",
    "from random import randint\n",
    "\n",
    "answer = randint(1, 101)\n",
    "guess = -1\n",
    "while answer != guess:\n",
    "    guess = int(input('my guess = '))\n",
    "    if answer > guess:\n",
    "        print('go bigger')\n",
    "    elif answer < guess:\n",
    "        print('go smaller')\n",
    "print('you got it!')\n"
   ]
  },
  {
   "cell_type": "code",
   "execution_count": 10,
   "metadata": {},
   "outputs": [
    {
     "name": "stdout",
     "output_type": "stream",
     "text": [
      "1 x 1 = 1\t1 x 2 = 2\t1 x 3 = 3\t1 x 4 = 4\t1 x 5 = 5\t1 x 6 = 6\t1 x 7 = 7\t1 x 8 = 8\t1 x 9 = 9\t\n",
      "2 x 2 = 4\t2 x 3 = 6\t2 x 4 = 8\t2 x 5 = 10\t2 x 6 = 12\t2 x 7 = 14\t2 x 8 = 16\t2 x 9 = 18\t\n",
      "3 x 3 = 9\t3 x 4 = 12\t3 x 5 = 15\t3 x 6 = 18\t3 x 7 = 21\t3 x 8 = 24\t3 x 9 = 27\t\n",
      "4 x 4 = 16\t4 x 5 = 20\t4 x 6 = 24\t4 x 7 = 28\t4 x 8 = 32\t4 x 9 = 36\t\n",
      "5 x 5 = 25\t5 x 6 = 30\t5 x 7 = 35\t5 x 8 = 40\t5 x 9 = 45\t\n",
      "6 x 6 = 36\t6 x 7 = 42\t6 x 8 = 48\t6 x 9 = 54\t\n",
      "7 x 7 = 49\t7 x 8 = 56\t7 x 9 = 63\t\n",
      "8 x 8 = 64\t8 x 9 = 72\t\n",
      "9 x 9 = 81\t\n"
     ]
    }
   ],
   "source": [
    "\"\"\"\n",
    "输出乘法口诀表(九九表)\n",
    "\n",
    "\"\"\"\n",
    "for i in range(1, 10):\n",
    "    for j in range(i, 10):\n",
    "        print('%d x %d = %d' % (i, j, i * j), end='\\t')\n",
    "    print()"
   ]
  },
  {
   "cell_type": "code",
   "execution_count": 11,
   "metadata": {},
   "outputs": [
    {
     "name": "stdout",
     "output_type": "stream",
     "text": [
      "input = 2\n",
      "2 is a prime\n"
     ]
    }
   ],
   "source": [
    "\"\"\"\n",
    "输入一个正整数判断它是不是素数\n",
    "\n",
    "\"\"\"\n",
    "from math import sqrt\n",
    "\n",
    "num = int(input('input = '))\n",
    "if num <= 0:\n",
    "    raise ValueError('input has to be positive!')\n",
    "end = int(sqrt(num))\n",
    "is_prime = True\n",
    "if num != 2 and num % 2 == 0:\n",
    "    is_prime = False\n",
    "else:\n",
    "    for i in range(3, end + 1, 2):\n",
    "        if num % i == 0:\n",
    "            is_prime = False\n",
    "            break\n",
    "\n",
    "if is_prime:\n",
    "    print('%d is a prime' % num)\n",
    "else:\n",
    "    print('%d is not a prime' % num)\n"
   ]
  },
  {
   "cell_type": "code",
   "execution_count": 15,
   "metadata": {},
   "outputs": [
    {
     "name": "stdout",
     "output_type": "stream",
     "text": [
      "a = 4\n",
      "b = 6\n",
      "2\n",
      "12\n"
     ]
    }
   ],
   "source": [
    "\"\"\"\n",
    "输入两个正整数计算最大公约数和最小公倍数\n",
    "\n",
    "\"\"\"\n",
    "\n",
    "a = int(input('a = '))\n",
    "b = int(input('b = '))\n",
    "\n",
    "if a <= 0 or b <= 0:\n",
    "    raise ValueError('Has to be positive!')\n",
    "if a > b:\n",
    "    a, b = b, a\n",
    "    \n",
    "f1 = -1\n",
    "for f in range(2, a):\n",
    "    if a % f == 0 and b % f == 0:\n",
    "        f1 = f\n",
    "        break\n",
    "print(f1)\n",
    "\n",
    "f2 = -1\n",
    "for f in range(b, a * b + 1):\n",
    "    if f % a == 0 and f % b == 0:\n",
    "        f2 = f\n",
    "        break\n",
    "print(f2)"
   ]
  },
  {
   "cell_type": "code",
   "execution_count": 19,
   "metadata": {},
   "outputs": [
    {
     "name": "stdout",
     "output_type": "stream",
     "text": [
      "*\n",
      "**\n",
      "***\n",
      "****\n",
      "*****\n",
      "    *\n",
      "   **\n",
      "  ***\n",
      " ****\n",
      "*****\n",
      "     *\n",
      "    ***\n",
      "   *****\n",
      "  *******\n",
      " *********\n"
     ]
    }
   ],
   "source": [
    "\"\"\"\n",
    "打印各种三角形图案\n",
    "\n",
    "*\n",
    "**\n",
    "***\n",
    "****\n",
    "*****\n",
    "\n",
    "    *\n",
    "   **\n",
    "  ***\n",
    " ****\n",
    "*****\n",
    "\n",
    "    *\n",
    "   ***\n",
    "  *****\n",
    " *******\n",
    "*********\n",
    "\n",
    "\"\"\"\n",
    "\n",
    "n = 5\n",
    "for i in range(n):\n",
    "    print('*' * (i + 1))\n",
    "for i in range(n, 0, -1):\n",
    "    print(' ' * (i - 1) + '*' * (n - i + 1))\n",
    "for i in range(n):\n",
    "    print(' ' * (n - i) + '*' * (2 * i + 1))"
   ]
  }
 ],
 "metadata": {
  "kernelspec": {
   "display_name": "Python 3",
   "language": "python",
   "name": "python3"
  },
  "language_info": {
   "codemirror_mode": {
    "name": "ipython",
    "version": 3
   },
   "file_extension": ".py",
   "mimetype": "text/x-python",
   "name": "python",
   "nbconvert_exporter": "python",
   "pygments_lexer": "ipython3",
   "version": "3.6.1"
  }
 },
 "nbformat": 4,
 "nbformat_minor": 2
}
