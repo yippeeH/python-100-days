{
 "cells": [
  {
   "cell_type": "code",
   "execution_count": 1,
   "metadata": {},
   "outputs": [
    {
     "name": "stdout",
     "output_type": "stream",
     "text": [
      "m = 5\n",
      "n = 3\n",
      "10\n"
     ]
    }
   ],
   "source": [
    "\"\"\"\n",
    "输入M和N计算C(M,N)\n",
    "\"\"\"\n",
    "\n",
    "m = int(input('m = '))\n",
    "n = int(input('n = '))\n",
    "\n",
    "fm = 1\n",
    "for i in range(m):\n",
    "    fm *= i + 1\n",
    "\n",
    "fn = 1\n",
    "for i in range(n):\n",
    "    fn *= i + 1\n",
    "\n",
    "fmn = 1\n",
    "for i in range(m - n):\n",
    "    fmn *= i + 1\n",
    "    \n",
    "print(fm // fn // fmn)"
   ]
  },
  {
   "cell_type": "code",
   "execution_count": 2,
   "metadata": {},
   "outputs": [
    {
     "name": "stdout",
     "output_type": "stream",
     "text": [
      "m = 5\n",
      "n = 3\n",
      "10\n"
     ]
    }
   ],
   "source": [
    "def factorial(n: int) -> int:\n",
    "    res = 1\n",
    "    for i in range(n):\n",
    "        res *= i + 1\n",
    "    return res\n",
    "\n",
    "m = int(input('m = '))\n",
    "n = int(input('n = '))\n",
    "print(factorial(m) // factorial(n) // factorial(m - n))"
   ]
  },
  {
   "cell_type": "code",
   "execution_count": 3,
   "metadata": {},
   "outputs": [
    {
     "name": "stdout",
     "output_type": "stream",
     "text": [
      "m = 5\n",
      "n = 3\n",
      "10\n"
     ]
    }
   ],
   "source": [
    "import math\n",
    "\n",
    "m = int(input('m = '))\n",
    "n = int(input('n = '))\n",
    "print(math.factorial(m) // math.factorial(n) // math.factorial(m - n))\n"
   ]
  },
  {
   "cell_type": "code",
   "execution_count": 4,
   "metadata": {},
   "outputs": [
    {
     "name": "stdout",
     "output_type": "stream",
     "text": [
      "4\n",
      "12\n",
      "0\n",
      "1\n",
      "3\n",
      "6\n",
      "350\n"
     ]
    }
   ],
   "source": [
    "from random import randint\n",
    "\n",
    "\n",
    "def roll_dice(n=2):\n",
    "    \"\"\"\n",
    "    摇色子\n",
    "    \n",
    "    :param n: 色子的个数\n",
    "    :return: n颗色子点数之和\n",
    "    \"\"\"\n",
    "    total = 0\n",
    "    for _ in range(n):\n",
    "        total += randint(1, 6)\n",
    "    return total\n",
    "\n",
    "\n",
    "def add(a=0, b=0, c=0):\n",
    "    return a + b + c\n",
    "\n",
    "\n",
    "# 如果没有指定参数那么使用默认值摇两颗色子\n",
    "print(roll_dice())\n",
    "# 摇三颗色子\n",
    "print(roll_dice(3))\n",
    "print(add())\n",
    "print(add(1))\n",
    "print(add(1, 2))\n",
    "print(add(1, 2, 3))\n",
    "# 传递参数时可以不按照设定的顺序进行传递\n",
    "print(add(c=50, a=100, b=200))"
   ]
  },
  {
   "cell_type": "code",
   "execution_count": 6,
   "metadata": {},
   "outputs": [
    {
     "name": "stdout",
     "output_type": "stream",
     "text": [
      "0\n",
      "1\n",
      "3\n",
      "6\n",
      "25\n"
     ]
    }
   ],
   "source": [
    "# 在参数名前面的*表示args是一个可变参数\n",
    "# 即在调用add函数时可以传入0个或多个参数\n",
    "def add(*args):\n",
    "    total = 0\n",
    "    for val in args:\n",
    "        total += val\n",
    "    return total\n",
    "\n",
    "\n",
    "print(add())\n",
    "print(add(1))\n",
    "print(add(1, 2))\n",
    "print(add(1, 2, 3))\n",
    "print(add(1, 3, 5, 7, 9))"
   ]
  },
  {
   "cell_type": "code",
   "execution_count": 7,
   "metadata": {},
   "outputs": [
    {
     "name": "stdout",
     "output_type": "stream",
     "text": [
      "goodbye, world!\n"
     ]
    }
   ],
   "source": [
    "def foo():\n",
    "    print('hello, world!')\n",
    "\n",
    "\n",
    "def foo():\n",
    "    print('goodbye, world!')\n",
    "\n",
    "\n",
    "# 下面的代码会输出什么呢？\n",
    "foo()"
   ]
  },
  {
   "cell_type": "code",
   "execution_count": 9,
   "metadata": {},
   "outputs": [
    {
     "name": "stdout",
     "output_type": "stream",
     "text": [
      "call foo()\n",
      "call bar()\n"
     ]
    }
   ],
   "source": [
    "def foo():\n",
    "    pass\n",
    "\n",
    "\n",
    "def bar():\n",
    "    pass\n",
    "\n",
    "\n",
    "# __name__是Python中一个隐含的变量它代表了模块的名字\n",
    "# 只有被Python解释器直接执行的模块的名字才是__main__\n",
    "if __name__ == '__main__':\n",
    "    print('call foo()')\n",
    "    foo()\n",
    "    print('call bar()')\n",
    "    bar()"
   ]
  },
  {
   "cell_type": "code",
   "execution_count": 12,
   "metadata": {},
   "outputs": [
    {
     "name": "stdout",
     "output_type": "stream",
     "text": [
      "x = 16\n",
      "y = 40\n",
      "8\n",
      "80\n"
     ]
    }
   ],
   "source": [
    "\"\"\"\n",
    "练习1：实现计算求最大公约数和最小公倍数的函数。\n",
    "\"\"\"\n",
    "\n",
    "def gcd(x: int, y: int) -> int:\n",
    "    if x > y:\n",
    "        x, y = y, x\n",
    "    for i in range(x, 1, -1):\n",
    "        if x % i == 0 and y % i == 0:\n",
    "            return i\n",
    "        \n",
    "def lcm(x: int, y: int) -> int:\n",
    "    return x * y // gcd(x, y)\n",
    "\n",
    "if __name__ == '__main__':\n",
    "    x = int(input('x = '))\n",
    "    y = int(input('y = '))\n",
    "    print(gcd(x, y))\n",
    "    print(lcm(x, y))"
   ]
  },
  {
   "cell_type": "code",
   "execution_count": 19,
   "metadata": {},
   "outputs": [
    {
     "name": "stdout",
     "output_type": "stream",
     "text": [
      "input = 1221\n",
      "True\n"
     ]
    }
   ],
   "source": [
    "\"\"\"\n",
    "练习2：实现判断一个数是不是回文数的函数。\n",
    "\"\"\"\n",
    "\n",
    "def is_palindrome(num: int) -> bool:\n",
    "    total = 0\n",
    "    temp = num\n",
    "    while temp > 0:\n",
    "        total = total * 10 + temp % 10\n",
    "        temp //= 10\n",
    "    return total == num\n",
    "\n",
    "if __name__ == '__main__':\n",
    "    num = int(input('input = '))\n",
    "    print(is_palindrome(num))"
   ]
  },
  {
   "cell_type": "code",
   "execution_count": 26,
   "metadata": {},
   "outputs": [
    {
     "name": "stdout",
     "output_type": "stream",
     "text": [
      "input = 9863\n",
      "False\n"
     ]
    }
   ],
   "source": [
    "\"\"\"\n",
    "练习3：实现判断一个数是不是素数的函数。\n",
    "\"\"\"\n",
    "\n",
    "def is_prime(num: int) -> bool:\n",
    "    if num == 2: \n",
    "        return True\n",
    "    if num == 1 or num % 2 == 0:\n",
    "        return False\n",
    "    for i in range(3, num, 2):\n",
    "        if num % i == 0:\n",
    "            return False\n",
    "    return True\n",
    "    \n",
    "if __name__ == '__main__':\n",
    "    num = int(input('input = '))\n",
    "    print(is_prime(num))"
   ]
  },
  {
   "cell_type": "code",
   "execution_count": 28,
   "metadata": {},
   "outputs": [
    {
     "name": "stdout",
     "output_type": "stream",
     "text": [
      "input = 123454321\n",
      "False\n"
     ]
    }
   ],
   "source": [
    "\"\"\"\n",
    "练习4：写一个程序判断输入的正整数是不是回文素数。\n",
    "\"\"\"\n",
    "\n",
    "def is_prime_palindrome(num: int) -> bool:\n",
    "    return is_prime(num) and is_palindrome(num)\n",
    "\n",
    "\n",
    "if __name__ == '__main__':\n",
    "    num = int(input('input = '))\n",
    "    print(is_prime_palindrome(num))"
   ]
  },
  {
   "cell_type": "code",
   "execution_count": 30,
   "metadata": {},
   "outputs": [
    {
     "name": "stdout",
     "output_type": "stream",
     "text": [
      "100\n",
      "hello\n",
      "True\n"
     ]
    }
   ],
   "source": [
    "def foo():\n",
    "    b = 'hello'\n",
    "\n",
    "    def bar():  # Python中可以在函数内部再定义函数\n",
    "        c = True\n",
    "        print(a)\n",
    "        print(b)\n",
    "        print(c)\n",
    "\n",
    "    bar()\n",
    "    # print(c)  # NameError: name 'c' is not defined\n",
    "\n",
    "\n",
    "if __name__ == '__main__':\n",
    "    a = 100     # This is a global variable\n",
    "    # print(b)  # NameError: name 'b' is not defined\n",
    "    foo()"
   ]
  },
  {
   "cell_type": "code",
   "execution_count": 31,
   "metadata": {},
   "outputs": [
    {
     "name": "stdout",
     "output_type": "stream",
     "text": [
      "200\n",
      "100\n"
     ]
    }
   ],
   "source": [
    "def foo():\n",
    "    a = 200   # Define new local variable a\n",
    "    print(a)  # 200\n",
    "\n",
    "\n",
    "if __name__ == '__main__':\n",
    "    a = 100\n",
    "    foo()\n",
    "    print(a) "
   ]
  },
  {
   "cell_type": "code",
   "execution_count": 40,
   "metadata": {},
   "outputs": [
    {
     "name": "stdout",
     "output_type": "stream",
     "text": [
      "100\n",
      "200\n",
      "200\n"
     ]
    }
   ],
   "source": [
    "def foo():\n",
    "    global a  # Modify global variable\n",
    "    print(a)\n",
    "    a = 200\n",
    "    print(a)  # 200\n",
    "\n",
    "\n",
    "if __name__ == '__main__':\n",
    "    a = 100\n",
    "    foo()\n",
    "    print(a)  # 200"
   ]
  },
  {
   "cell_type": "code",
   "execution_count": 41,
   "metadata": {
    "collapsed": true
   },
   "outputs": [],
   "source": [
    "def main():\n",
    "    # Todo: Add your code here\n",
    "    pass\n",
    "\n",
    "\n",
    "if __name__ == '__main__':\n",
    "    main()"
   ]
  }
 ],
 "metadata": {
  "kernelspec": {
   "display_name": "Python 3",
   "language": "python",
   "name": "python3"
  },
  "language_info": {
   "codemirror_mode": {
    "name": "ipython",
    "version": 3
   },
   "file_extension": ".py",
   "mimetype": "text/x-python",
   "name": "python",
   "nbconvert_exporter": "python",
   "pygments_lexer": "ipython3",
   "version": "3.6.1"
  }
 },
 "nbformat": 4,
 "nbformat_minor": 2
}
